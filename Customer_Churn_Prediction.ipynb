{
 "cells": [
  {
   "cell_type": "code",
   "execution_count": 1,
   "id": "2fcb6fe4",
   "metadata": {},
   "outputs": [],
   "source": [
    "# Import required libraries\n",
    "import pandas as pd\n",
    "import numpy as np\n",
    "import matplotlib.pyplot as plt\n",
    "import seaborn as sns\n",
    "from sklearn.model_selection import train_test_split, GridSearchCV\n",
    "from sklearn.preprocessing import StandardScaler, OneHotEncoder\n",
    "from sklearn.compose import ColumnTransformer\n",
    "from sklearn.pipeline import Pipeline\n",
    "from sklearn.ensemble import RandomForestClassifier, GradientBoostingClassifier\n",
    "from sklearn.metrics import (accuracy_score, precision_score, recall_score, \n",
    "                            f1_score, roc_auc_score, confusion_matrix, \n",
    "                            classification_report, roc_curve, auc)\n",
    "from imblearn.over_sampling import SMOTE\n",
    "from imblearn.pipeline import Pipeline as imbPipeline\n",
    "import joblib\n",
    "import warnings\n",
    "warnings.filterwarnings('ignore')"
   ]
  },
  {
   "cell_type": "code",
   "execution_count": 2,
   "id": "9eb6a863",
   "metadata": {},
   "outputs": [],
   "source": [
    "# Load and preprocess data\n",
    "def load_and_preprocess_data(filepath):\n",
    "    data = pd.read_csv(filepath)\n",
    "    \n",
    "    # Data cleaning\n",
    "    data['TotalCharges'] = pd.to_numeric(data['TotalCharges'], errors='coerce').fillna(0)\n",
    "    data['Churn'] = data['Churn'].map({'Yes': 1, 'No': 0})\n",
    "    \n",
    "    # Feature engineering\n",
    "    data['AvgChargePerTenure'] = data['TotalCharges'] / (data['tenure'] + 0.001)\n",
    "    data['HasInternet'] = data['InternetService'].apply(lambda x: 0 if x == 'No' else 1)\n",
    "    \n",
    "    return data.drop('customerID', axis=1)"
   ]
  },
  {
   "cell_type": "code",
   "execution_count": 3,
   "id": "8f3cd0e0",
   "metadata": {},
   "outputs": [],
   "source": [
    "# Prepare modeling pipeline\n",
    "def create_modeling_pipeline(model, preprocessor):\n",
    "    return imbPipeline([\n",
    "        ('preprocessor', preprocessor),\n",
    "        ('smote', SMOTE(random_state=42)),\n",
    "        ('classifier', model)\n",
    "    ])"
   ]
  },
  {
   "cell_type": "code",
   "execution_count": 6,
   "id": "b8c800ae",
   "metadata": {},
   "outputs": [],
   "source": [
    "# Main execution\n",
    "if __name__ == \"__main__\":\n",
    "    # Load and prepare data\n",
    "    data = load_and_preprocess_data('Customer_Churn.csv')\n",
    "    X = data.drop('Churn', axis=1)\n",
    "    y = data['Churn']\n",
    "    X_train, X_test, y_train, y_test = train_test_split(X, y, test_size=0.3, random_state=42, stratify=y)\n"
   ]
  },
  {
   "cell_type": "code",
   "execution_count": 8,
   "id": "07495e66",
   "metadata": {},
   "outputs": [],
   "source": [
    "# Define features\n",
    "categorical_features = ['gender', 'SeniorCitizen','Partner', 'Dependents', \n",
    "                          'PhoneService', 'MultipleLines', 'InternetService',\n",
    "                          'OnlineSecurity', 'OnlineBackup', 'DeviceProtection',\n",
    "                          'TechSupport', 'StreamingTV', 'StreamingMovies',\n",
    "                          'Contract', 'PaperlessBilling', 'PaymentMethod']\n",
    "numerical_features = ['tenure', 'MonthlyCharges', 'TotalCharges', 'AvgChargePerTenure']"
   ]
  },
  {
   "cell_type": "code",
   "execution_count": 9,
   "id": "7caff482",
   "metadata": {},
   "outputs": [],
   "source": [
    "    # Create preprocessing pipeline\n",
    "preprocessor = ColumnTransformer([\n",
    "        ('num', StandardScaler(), numerical_features),\n",
    "        ('cat', OneHotEncoder(handle_unknown='ignore'), categorical_features)\n",
    "    ])"
   ]
  },
  {
   "cell_type": "code",
   "execution_count": 10,
   "id": "7f56dd62",
   "metadata": {},
   "outputs": [],
   "source": [
    "    # Define models and parameters\n",
    "models = {\n",
    "        'Random Forest': {\n",
    "            'model': RandomForestClassifier(random_state=42),\n",
    "            'params': {\n",
    "                'classifier__n_estimators': [100, 200],\n",
    "                'classifier__max_depth': [None, 10, 20],\n",
    "                'classifier__min_samples_split': [2, 5]\n",
    "            }\n",
    "        },\n",
    "        'Gradient Boosting': {\n",
    "            'model': GradientBoostingClassifier(random_state=42),\n",
    "            'params': {\n",
    "                'classifier__n_estimators': [100, 200],\n",
    "                'classifier__learning_rate': [0.01, 0.1],\n",
    "                'classifier__max_depth': [3, 6]\n",
    "            }\n",
    "        }\n",
    "    }"
   ]
  },
  {
   "cell_type": "code",
   "execution_count": 11,
   "id": "e1fd5a21",
   "metadata": {},
   "outputs": [
    {
     "name": "stdout",
     "output_type": "stream",
     "text": [
      "\n",
      "Training Random Forest...\n",
      "Fitting 5 folds for each of 12 candidates, totalling 60 fits\n",
      "\n",
      "Training Gradient Boosting...\n",
      "Fitting 5 folds for each of 8 candidates, totalling 40 fits\n"
     ]
    }
   ],
   "source": [
    "    # Train and evaluate models\n",
    "best_models = {}\n",
    "results = []\n",
    "\n",
    "for name, config in models.items():\n",
    "        print(f\"\\nTraining {name}...\")\n",
    "        \n",
    "        # Create pipeline\n",
    "        pipeline = create_modeling_pipeline(config['model'], preprocessor)\n",
    "        \n",
    "        # Grid search with single worker to avoid pickling issues\n",
    "        grid_search = GridSearchCV(\n",
    "            pipeline,\n",
    "            config['params'],\n",
    "            cv=5,\n",
    "            scoring='roc_auc',\n",
    "            n_jobs=1,\n",
    "            verbose=1\n",
    "        )\n",
    "        grid_search.fit(X_train, y_train)"
   ]
  },
  {
   "cell_type": "code",
   "execution_count": 12,
   "id": "cec0ff26",
   "metadata": {},
   "outputs": [],
   "source": [
    "        # Store best model (without SMOTE for serialization)\n",
    "best_pipeline = Pipeline([\n",
    "            ('preprocessor', grid_search.best_estimator_.named_steps['preprocessor']),\n",
    "            ('classifier', grid_search.best_estimator_.named_steps['classifier'])\n",
    "        ])\n",
    "best_models[name] = best_pipeline"
   ]
  },
  {
   "cell_type": "code",
   "execution_count": 13,
   "id": "2526ccb1",
   "metadata": {},
   "outputs": [],
   "source": [
    "        # Evaluate\n",
    "y_pred = best_pipeline.predict(X_test)\n",
    "y_proba = best_pipeline.predict_proba(X_test)[:, 1]\n",
    "        \n",
    "        # Store metrics\n",
    "results.append({\n",
    "            'Model': name,\n",
    "            'Accuracy': accuracy_score(y_test, y_pred),\n",
    "            'Precision': precision_score(y_test, y_pred),\n",
    "            'Recall': recall_score(y_test, y_pred),\n",
    "            'F1 Score': f1_score(y_test, y_pred),\n",
    "            'ROC AUC': roc_auc_score(y_test, y_proba),\n",
    "            'Best Params': grid_search.best_params_\n",
    "        })"
   ]
  },
  {
   "cell_type": "code",
   "execution_count": 14,
   "id": "93cbc565",
   "metadata": {},
   "outputs": [
    {
     "name": "stdout",
     "output_type": "stream",
     "text": [
      "\n",
      "Gradient Boosting Classification Report:\n",
      "              precision    recall  f1-score   support\n",
      "\n",
      "           0       0.88      0.82      0.85      1552\n",
      "           1       0.58      0.69      0.63       561\n",
      "\n",
      "    accuracy                           0.78      2113\n",
      "   macro avg       0.73      0.75      0.74      2113\n",
      "weighted avg       0.80      0.78      0.79      2113\n",
      "\n"
     ]
    },
    {
     "data": {
      "image/png": "[encoded data removed]",
      "text/plain": [
       "<Figure size 600x600 with 2 Axes>"
      ]
     },
     "metadata": {},
     "output_type": "display_data"
    }
   ],
   "source": [
    "        # Generate reports\n",
    "print(f\"\\n{name} Classification Report:\")\n",
    "print(classification_report(y_test, y_pred))\n",
    "        \n",
    "        # Plot confusion matrix\n",
    "plt.figure(figsize=(6, 6))\n",
    "sns.heatmap(confusion_matrix(y_test, y_pred), \n",
    "                   annot=True, fmt='d', cmap='Blues',\n",
    "                   xticklabels=['Not Churn', 'Churn'], \n",
    "                   yticklabels=['Not Churn', 'Churn'])\n",
    "plt.title(f'{name} Confusion Matrix')\n",
    "plt.show()"
   ]
  },
  {
   "cell_type": "code",
   "execution_count": 15,
   "id": "b37a9215",
   "metadata": {},
   "outputs": [
    {
     "data": {
      "image/png": "[encoded data removed]",
      "text/plain": [
       "<Figure size 800x600 with 1 Axes>"
      ]
     },
     "metadata": {},
     "output_type": "display_data"
    }
   ],
   "source": [
    "        # Plot ROC curve\n",
    "fpr, tpr, _ = roc_curve(y_test, y_proba)\n",
    "plt.figure(figsize=(8, 6))\n",
    "plt.plot(fpr, tpr, label=f'AUC = {auc(fpr, tpr):.2f}')\n",
    "plt.plot([0, 1], [0, 1], 'k--')\n",
    "plt.title(f'{name} ROC Curve')\n",
    "plt.legend(loc='lower right')\n",
    "plt.show()"
   ]
  },
  {
   "cell_type": "code",
   "execution_count": 16,
   "id": "8ef9eb26",
   "metadata": {},
   "outputs": [
    {
     "name": "stdout",
     "output_type": "stream",
     "text": [
      "\n",
      "Model Comparison:\n",
      "               Model  Accuracy  Precision    Recall  F1 Score   ROC AUC  \\\n",
      "0  Gradient Boosting  0.783247   0.576296  0.693405   0.62945  0.840118   \n",
      "\n",
      "                                         Best Params  \n",
      "0  {'classifier__learning_rate': 0.1, 'classifier...  \n"
     ]
    }
   ],
   "source": [
    "    # Results comparison\n",
    "results_df = pd.DataFrame(results)\n",
    "print(\"\\nModel Comparison:\")\n",
    "print(results_df.sort_values('ROC AUC', ascending=False))\n",
    "    \n",
    "    # Select and save best model\n",
    "best_model_name = results_df.loc[results_df['ROC AUC'].idxmax(), 'Model']\n",
    "best_model = best_models[best_model_name]"
   ]
  },
  {
   "cell_type": "code",
   "execution_count": 17,
   "id": "6ba703d8",
   "metadata": {},
   "outputs": [
    {
     "name": "stdout",
     "output_type": "stream",
     "text": [
      "\n",
      "Model saved successfully as 'best_churn_model.pkl'\n"
     ]
    }
   ],
   "source": [
    "\n",
    "    # Save model components separately to avoid pickling issues\n",
    "model_artifacts = {\n",
    "        'preprocessor': best_model.named_steps['preprocessor'],\n",
    "        'model': best_model.named_steps['classifier'],\n",
    "        'feature_names': {\n",
    "            'numerical': numerical_features,\n",
    "            'categorical': categorical_features\n",
    "        }\n",
    "    }\n",
    "joblib.dump(model_artifacts, 'best_churn_model.pkl')\n",
    "print(\"\\nModel saved successfully as 'best_churn_model.pkl'\")\n",
    "\n"
   ]
  },
  {
   "cell_type": "code",
   "execution_count": 19,
   "id": "71014190",
   "metadata": {},
   "outputs": [],
   "source": [
    "# Example prediction function\n",
    "def predict_churn(customer_data, model_path='best_churn_model.pkl'):\n",
    "        \"\"\"Predict churn for new customer data\"\"\"\n",
    "        artifacts = joblib.load(model_path)\n",
    "        \n",
    "        # Create pipeline from saved components\n",
    "        pipeline = Pipeline([\n",
    "            ('preprocessor', artifacts['preprocessor']),\n",
    "            ('classifier', artifacts['model'])\n",
    "        ])\n",
    "        \n",
    "        # Prepare input data\n",
    "        input_df = pd.DataFrame([customer_data])\n",
    "        input_df = load_and_preprocess_data(input_df) if isinstance(input_df, str) else input_df\n",
    "        \n",
    "        # Make prediction\n",
    "        proba = pipeline.predict_proba(input_df)[0][1]\n",
    "        return {\n",
    "            'churn_probability': proba,\n",
    "            'prediction': 'Yes' if proba >= 0.5 else 'No'\n",
    "        }\n",
    "\n",
    "    # Example usage:\n",
    "    # sample_customer = { ... }  # Your customer data here\n",
    "    # print(predict_churn(sample_customer))"
   ]
  }
 ],
 "metadata": {
  "kernelspec": {
   "display_name": "Python 3",
   "language": "python",
   "name": "python3"
  },
  "language_info": {
   "codemirror_mode": {
    "name": "ipython",
    "version": 3
   },
   "file_extension": ".py",
   "mimetype": "text/x-python",
   "name": "python",
   "nbconvert_exporter": "python",
   "pygments_lexer": "ipython3",
   "version": "3.11.0"
  }
 },
 "nbformat": 4,
 "nbformat_minor": 5
}
